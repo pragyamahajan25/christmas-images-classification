{
 "cells": [
  {
   "cell_type": "code",
   "execution_count": 1,
   "id": "59ea79d2",
   "metadata": {},
   "outputs": [],
   "source": [
    "import torch\n",
    "import torch.nn as nn\n",
    "import pandas as pd\n",
    "from torch.utils.data import DataLoader\n",
    "from model import Network\n",
    "from data import ChristmasImages\n",
    "import model\n",
    "from torchvision.models import resnet50\n",
    "import os\n",
    "import data"
   ]
  },
  {
   "cell_type": "code",
   "execution_count": 2,
   "id": "9c8a59b9",
   "metadata": {},
   "outputs": [],
   "source": [
    "\n",
    "def train_model(model, train_loader):\n",
    "    model.train()\n",
    "    criterion = nn.CrossEntropyLoss()\n",
    "    optimizer = torch.optim.Adam(model.parameters(), lr=0.001)\n",
    "    running_loss = 0.0\n",
    "\n",
    "    for images, labels in train_loader:\n",
    "        optimizer.zero_grad()\n",
    "        outputs = model(images)\n",
    "        loss = criterion(outputs, labels)\n",
    "        loss.backward()\n",
    "        optimizer.step()\n",
    "        running_loss += loss.item()\n",
    "\n",
    "    return running_loss / len(train_loader)\n"
   ]
  },
  {
   "cell_type": "code",
   "execution_count": 3,
   "id": "190afd8c",
   "metadata": {},
   "outputs": [],
   "source": [
    "def evaluate_model(model, val_loader):\n",
    "    model.eval()\n",
    "    predictions = []\n",
    "\n",
    "    with torch.no_grad():\n",
    "        for images, ids in val_loader:\n",
    "            outputs = model(images)\n",
    "            _, predicted = torch.max(outputs, 1)\n",
    "            predictions.extend(predicted.cpu().numpy())\n",
    "\n",
    "    return predictions"
   ]
  },
  {
   "cell_type": "code",
   "execution_count": 4,
   "id": "d010803c",
   "metadata": {},
   "outputs": [],
   "source": [
    "train_path = \"C:\\\\Users\\\\Pragya Mahajan\\\\Documents\\\\DL assignments\\\\DL challenge\\\\data\\\\train\"\n",
    "test_path = \"C:\\\\Users\\\\Pragya Mahajan\\\\Documents\\\\DL assignments\\\\DL challenge\\\\data\\\\val\"\n"
   ]
  },
  {
   "cell_type": "code",
   "execution_count": 6,
   "id": "09029fbf",
   "metadata": {},
   "outputs": [],
   "source": [
    " # Create datasets\n",
    "train_dataset = ChristmasImages(train_path, training=True)\n",
    "test_dataset = ChristmasImages(test_path, training=False)"
   ]
  },
  {
   "cell_type": "code",
   "execution_count": 8,
   "id": "d9dbc3db",
   "metadata": {},
   "outputs": [],
   "source": [
    "# Create dataloaders\n",
    "train_loader = DataLoader(train_dataset, batch_size=32, shuffle=True)\n",
    "test_loader = DataLoader(test_dataset, batch_size=1, shuffle=False)\n"
   ]
  },
  {
   "cell_type": "code",
   "execution_count": 9,
   "id": "06ba59f0",
   "metadata": {},
   "outputs": [],
   "source": [
    "# Create model instance\n",
    "model = Network()"
   ]
  },
  {
   "cell_type": "code",
   "execution_count": 10,
   "id": "05215795",
   "metadata": {},
   "outputs": [
    {
     "name": "stdout",
     "output_type": "stream",
     "text": [
      "Epoch [1/5], Train Loss: 1.9963\n",
      "Epoch [2/5], Train Loss: 1.8119\n",
      "Epoch [3/5], Train Loss: 1.7647\n",
      "Epoch [4/5], Train Loss: 1.6886\n",
      "Epoch [5/5], Train Loss: 1.5930\n"
     ]
    }
   ],
   "source": [
    "\n",
    "# Train the model\n",
    "for epoch in range(5):  # 5 epochs for demonstration\n",
    "    train_loss = train_model(model, train_loader)\n",
    "    print(f'Epoch [{epoch+1}/5], Train Loss: {train_loss:.4f}')"
   ]
  },
  {
   "cell_type": "code",
   "execution_count": 11,
   "id": "50de08a6",
   "metadata": {},
   "outputs": [],
   "source": [
    "\n",
    "    # Evaluate the model\n",
    "    predictions = evaluate_model(model, test_loader)\n"
   ]
  },
  {
   "cell_type": "code",
   "execution_count": 12,
   "id": "120c3dde",
   "metadata": {},
   "outputs": [],
   "source": [
    "\n",
    "    # Save predictions to CSV\n",
    "    df = pd.DataFrame({'Id': test_dataset.image_files, 'Category': predictions})\n",
    "    df['Id'] = df['Id'].apply(lambda x: int(x.split('.')[0]))  # Extracting image ID\n",
    "    df.to_csv('predictions.csv', index=False)\n",
    "\n",
    "    # Save the trained model\n",
    "    model.save_model()\n"
   ]
  },
  {
   "cell_type": "code",
   "execution_count": null,
   "id": "02fa5db5",
   "metadata": {},
   "outputs": [],
   "source": []
  },
  {
   "cell_type": "code",
   "execution_count": null,
   "id": "5d929030",
   "metadata": {},
   "outputs": [],
   "source": []
  }
 ],
 "metadata": {
  "kernelspec": {
   "display_name": "Python 3 (ipykernel)",
   "language": "python",
   "name": "python3"
  },
  "language_info": {
   "codemirror_mode": {
    "name": "ipython",
    "version": 3
   },
   "file_extension": ".py",
   "mimetype": "text/x-python",
   "name": "python",
   "nbconvert_exporter": "python",
   "pygments_lexer": "ipython3",
   "version": "3.8.18"
  }
 },
 "nbformat": 4,
 "nbformat_minor": 5
}
